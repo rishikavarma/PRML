{
 "cells": [
  {
   "cell_type": "code",
   "execution_count": 1,
   "metadata": {
    "id": "G24F9Y-O6P9M"
   },
   "outputs": [],
   "source": [
    "import numpy as np\n",
    "from sklearn.datasets import load_digits\n",
    "import matplotlib.pyplot as plt\n"
   ]
  },
  {
   "cell_type": "code",
   "execution_count": 2,
   "metadata": {
    "id": "x85WHcEN6P9S"
   },
   "outputs": [],
   "source": [
    "dataset = load_digits()"
   ]
  },
  {
   "cell_type": "code",
   "execution_count": 3,
   "metadata": {
    "colab": {
     "base_uri": "https://localhost:8080/"
    },
    "id": "__1lwxw76P9V",
    "outputId": "41724329-a29b-44ff-9e1a-2653ff1c0be2"
   },
   "outputs": [
    {
     "name": "stdout",
     "output_type": "stream",
     "text": [
      "(1797,)\n",
      "(1797, 64)\n"
     ]
    }
   ],
   "source": [
    "print(dataset.target.shape)\n",
    "print(dataset.data.shape)\n",
    "X=dataset.data\n",
    "Y=dataset.target\n"
   ]
  },
  {
   "cell_type": "code",
   "execution_count": 4,
   "metadata": {
    "colab": {
     "base_uri": "https://localhost:8080/",
     "height": 304
    },
    "id": "HJw24cRQ6P9b",
    "outputId": "1457eb63-6f21-468b-8e5b-3cce65915dbe"
   },
   "outputs": [
    {
     "name": "stdout",
     "output_type": "stream",
     "text": [
      "7\n"
     ]
    },
    {
     "data": {
      "text/plain": [
       "<matplotlib.colorbar.Colorbar at 0x7f794aed0490>"
      ]
     },
     "execution_count": 4,
     "metadata": {},
     "output_type": "execute_result"
    },
    {
     "data": {
      "image/png": "[encoded data removed]",
      "text/plain": [
       "<Figure size 432x288 with 2 Axes>"
      ]
     },
     "metadata": {
      "needs_background": "light"
     },
     "output_type": "display_data"
    }
   ],
   "source": [
    "index=783\n",
    "print(Y[index])\n",
    "plt.imshow(X[index].reshape(8,8))\n",
    "plt.colorbar()"
   ]
  },
  {
   "cell_type": "code",
   "execution_count": 5,
   "metadata": {
    "colab": {
     "base_uri": "https://localhost:8080/"
    },
    "id": "yYyplk--6P9g",
    "outputId": "f6ede7ee-da8e-4409-9383-79f3ea04f8c5"
   },
   "outputs": [
    {
     "name": "stdout",
     "output_type": "stream",
     "text": [
      "(1, 64)\n"
     ]
    }
   ],
   "source": [
    "X_bar = np.mean(X,axis=0)[None,:] # Sample mean\n",
    "print(X_bar.shape)\n",
    "S = np.dot(X.T-X_bar.T , X-X_bar)/len(X) # Compute covariance matrix\n"
   ]
  },
  {
   "cell_type": "code",
   "execution_count": 6,
   "metadata": {
    "colab": {
     "base_uri": "https://localhost:8080/"
    },
    "id": "Fv9tix6P6P9j",
    "outputId": "de66090c-6c11-4bbb-8f32-c9236407d71f"
   },
   "outputs": [
    {
     "name": "stdout",
     "output_type": "stream",
     "text": [
      "(64, 64)\n"
     ]
    }
   ],
   "source": [
    "print(S.shape)"
   ]
  },
  {
   "cell_type": "code",
   "execution_count": 7,
   "metadata": {
    "colab": {
     "base_uri": "https://localhost:8080/",
     "height": 282
    },
    "id": "pYlbh2-66P9n",
    "outputId": "68098a24-45bf-496c-c301-ba0c1b078b4e",
    "scrolled": true
   },
   "outputs": [
    {
     "data": {
      "text/plain": [
       "[<matplotlib.lines.Line2D at 0x7f794af678b0>]"
      ]
     },
     "execution_count": 7,
     "metadata": {},
     "output_type": "execute_result"
    },
    {
     "data": {
      "image/png": "[encoded data removed]",
      "text/plain": [
       "<Figure size 432x288 with 1 Axes>"
      ]
     },
     "metadata": {
      "needs_background": "light"
     },
     "output_type": "display_data"
    }
   ],
   "source": [
    "eigenvals,eigenvecs = np.linalg.eig(S)\n",
    "\n",
    "plt.plot(eigenvals)"
   ]
  },
  {
   "cell_type": "code",
   "execution_count": 8,
   "metadata": {
    "id": "T66OHRXX6P9v"
   },
   "outputs": [],
   "source": [
    "M=40\n",
    "D=64\n",
    "N=len(X)\n",
    "U = np.array(eigenvecs) # Columns of U form the principal components.\n"
   ]
  },
  {
   "cell_type": "code",
   "execution_count": 9,
   "metadata": {
    "colab": {
     "base_uri": "https://localhost:8080/"
    },
    "id": "7WldURVV6P9z",
    "outputId": "2d010acc-5dc3-4099-8be2-9a97c95c3365"
   },
   "outputs": [
    {
     "name": "stdout",
     "output_type": "stream",
     "text": [
      "(1797, 40)\n",
      "(64,)\n"
     ]
    }
   ],
   "source": [
    "Z = np.zeros((N,M)) \n",
    "b = np.zeros(D)\n",
    "print(Z.shape)\n",
    "print(b.shape)"
   ]
  },
  {
   "cell_type": "code",
   "execution_count": 10,
   "metadata": {
    "id": "hmnxywru6P93"
   },
   "outputs": [],
   "source": [
    "for n in range(N):\n",
    "    for i in range(M):\n",
    "        Z[n,i]= np.dot(X[n],U[:,i])\n",
    "        \n",
    "for i in range(M,D):\n",
    "    b[i] = np.dot(X_bar,U[:,i])\n",
    "    "
   ]
  },
  {
   "cell_type": "code",
   "execution_count": 11,
   "metadata": {
    "colab": {
     "base_uri": "https://localhost:8080/"
    },
    "id": "pfoh45gg6P96",
    "outputId": "3a807502-5ee4-4aee-d12c-0bb09facb041"
   },
   "outputs": [
    {
     "name": "stdout",
     "output_type": "stream",
     "text": [
      "(1797, 40)\n",
      "(64,)\n",
      "(64, 64)\n"
     ]
    }
   ],
   "source": [
    "# Compression is now done. X_tilde is reconstructed only from Z,b and u now.\n",
    "print(Z.shape)\n",
    "print(b.shape)\n",
    "print(U.shape)"
   ]
  },
  {
   "cell_type": "code",
   "execution_count": 12,
   "metadata": {
    "colab": {
     "base_uri": "https://localhost:8080/"
    },
    "id": "IcgG8qYt6P9_",
    "outputId": "2d148b6f-b4f6-4a54-cc99-0d39dfd3d1da"
   },
   "outputs": [
    {
     "name": "stdout",
     "output_type": "stream",
     "text": [
      "(1797, 64)\n"
     ]
    }
   ],
   "source": [
    "# Reconstruct X_tilde\n",
    "\n",
    "X_tilde = np.zeros(X.shape)\n",
    "\n",
    "for n in range(N):\n",
    "    for i in range(M):\n",
    "        X_tilde[n,:] += Z[n,i]*U[:,i].T\n",
    "        \n",
    "    for i in range(M,D):\n",
    "        X_tilde[n,:] += b[i]*U[:,i].T\n",
    "        \n",
    "        \n",
    "print(X_tilde.shape)\n",
    "        \n"
   ]
  },
  {
   "cell_type": "code",
   "execution_count": 13,
   "metadata": {
    "colab": {
     "base_uri": "https://localhost:8080/",
     "height": 580
    },
    "id": "SAKWKguR6P-C",
    "outputId": "23748d55-1697-40f4-d7b3-d471e64e1a45"
   },
   "outputs": [
    {
     "name": "stdout",
     "output_type": "stream",
     "text": [
      "3\n"
     ]
    },
    {
     "data": {
      "text/plain": [
       "<matplotlib.colorbar.Colorbar at 0x7f794b15b190>"
      ]
     },
     "execution_count": 13,
     "metadata": {},
     "output_type": "execute_result"
    },
    {
     "data": {
      "image/png": "[encoded data removed]",
      "text/plain": [
       "<Figure size 432x288 with 2 Axes>"
      ]
     },
     "metadata": {
      "needs_background": "light"
     },
     "output_type": "display_data"
    },
    {
     "data": {
      "image/png": "[encoded data removed]",
      "text/plain": [
       "<Figure size 432x288 with 2 Axes>"
      ]
     },
     "metadata": {
      "needs_background": "light"
     },
     "output_type": "display_data"
    }
   ],
   "source": [
    "# Comparatively visualise X and X_tilde to see how good the approximation is\n",
    "index=45\n",
    "print(Y[index])\n",
    "\n",
    "plt.figure()\n",
    "plt.title(\"Original data X visualised\")\n",
    "plt.imshow(X[index].reshape(8,8))\n",
    "plt.colorbar()\n",
    "\n",
    "plt.figure()\n",
    "plt.title(\"X_tilde visualised with M = \"+str(M))\n",
    "plt.imshow(X_tilde[index].reshape(8,8))\n",
    "plt.colorbar()\n"
   ]
  },
  {
   "cell_type": "code",
   "execution_count": 14,
   "metadata": {
    "colab": {
     "base_uri": "https://localhost:8080/"
    },
    "id": "rPs1xi2C6P-F",
    "outputId": "810a44d5-3a2f-479d-c241-90c3dc300458"
   },
   "outputs": [
    {
     "name": "stdout",
     "output_type": "stream",
     "text": [
      "14.17416466513978\n"
     ]
    }
   ],
   "source": [
    "# Compute average squared distance\n",
    "avg_sqd_distance = np.sum((X-X_tilde)**2)/len(X)\n",
    "print(avg_sqd_distance)"
   ]
  },
  {
   "cell_type": "code",
   "execution_count": 15,
   "metadata": {
    "colab": {
     "base_uri": "https://localhost:8080/"
    },
    "id": "qU9YgPX96P-I",
    "outputId": "2b4af605-722f-44c7-ba2c-13bb8edd300f"
   },
   "outputs": [
    {
     "data": {
      "text/plain": [
       "14.174164665139832"
      ]
     },
     "execution_count": 15,
     "metadata": {},
     "output_type": "execute_result"
    }
   ],
   "source": [
    "# Best solution has average squared distance equal to sum of last D-M eigen values of S\n",
    "np.sum(eigenvals[M:D])"
   ]
  },
  {
   "cell_type": "code",
   "execution_count": null,
   "metadata": {
    "collapsed": true,
    "id": "3t0isKOe6P-K",
    "jupyter": {
     "outputs_hidden": true
    }
   },
   "outputs": [],
   "source": []
  },
  {
   "cell_type": "code",
   "execution_count": null,
   "metadata": {},
   "outputs": [],
   "source": []
  }
 ],
 "metadata": {
  "colab": {
   "collapsed_sections": [],
   "name": "PCA_demo.ipynb",
   "provenance": []
  },
  "kernelspec": {
   "display_name": "Python 3",
   "language": "python",
   "name": "python3"
  },
  "language_info": {
   "codemirror_mode": {
    "name": "ipython",
    "version": 3
   },
   "file_extension": ".py",
   "mimetype": "text/x-python",
   "name": "python",
   "nbconvert_exporter": "python",
   "pygments_lexer": "ipython3",
   "version": "3.8.5"
  }
 },
 "nbformat": 4,
 "nbformat_minor": 4
}
